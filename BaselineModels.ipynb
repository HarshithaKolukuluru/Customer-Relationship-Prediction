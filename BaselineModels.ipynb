{
 "cells": [
  {
   "cell_type": "code",
   "execution_count": 1,
   "id": "artificial-particular",
   "metadata": {},
   "outputs": [],
   "source": [
    "import numpy as np\n",
    "import pandas as pd\n",
    "import matplotlib.pyplot as plt\n",
    "from sklearn.model_selection import train_test_split\n",
    "from sklearn.linear_model import LogisticRegression, Lasso\n",
    "from sklearn.tree import DecisionTreeClassifier\n",
    "from sklearn.naive_bayes import GaussianNB\n",
    "from sklearn.metrics import roc_auc_score, confusion_matrix, roc_curve\n",
    "from imblearn.over_sampling import SMOTE\n",
    "from sklearn.preprocessing import KBinsDiscretizer, StandardScaler\n",
    "from category_encoders.leave_one_out import LeaveOneOutEncoder\n",
    "from category_encoders.cat_boost import  CatBoostEncoder\n",
    "from category_encoders.binary import BinaryEncoder\n",
    "from sklearn.pipeline import Pipeline\n",
    "from sklearn.compose import ColumnTransformer\n",
    "from imblearn.pipeline import Pipeline\n",
    "from sklearn.feature_selection import VarianceThreshold\n",
    "from xgboost import XGBClassifier\n",
    "from prettytable import PrettyTable\n",
    "\n",
    "%matplotlib inline"
   ]
  },
  {
   "cell_type": "code",
   "execution_count": 2,
   "id": "distinct-appreciation",
   "metadata": {},
   "outputs": [],
   "source": [
    "df = pd.read_pickle('soft_impute.pickle')"
   ]
  },
  {
   "cell_type": "code",
   "execution_count": 3,
   "id": "otherwise-strand",
   "metadata": {},
   "outputs": [
    {
     "data": {
      "text/html": [
       "<div>\n",
       "<style scoped>\n",
       "    .dataframe tbody tr th:only-of-type {\n",
       "        vertical-align: middle;\n",
       "    }\n",
       "\n",
       "    .dataframe tbody tr th {\n",
       "        vertical-align: top;\n",
       "    }\n",
       "\n",
       "    .dataframe thead th {\n",
       "        text-align: right;\n",
       "    }\n",
       "</style>\n",
       "<table border=\"1\" class=\"dataframe\">\n",
       "  <thead>\n",
       "    <tr style=\"text-align: right;\">\n",
       "      <th></th>\n",
       "      <th>Var6</th>\n",
       "      <th>Var7</th>\n",
       "      <th>Var13</th>\n",
       "      <th>Var21</th>\n",
       "      <th>Var24</th>\n",
       "      <th>Var25</th>\n",
       "      <th>Var28</th>\n",
       "      <th>Var35</th>\n",
       "      <th>Var38</th>\n",
       "      <th>Var44</th>\n",
       "      <th>...</th>\n",
       "      <th>nan_Var218</th>\n",
       "      <th>nan_Var219</th>\n",
       "      <th>nan_Var221</th>\n",
       "      <th>nan_Var223</th>\n",
       "      <th>nan_Var226</th>\n",
       "      <th>nan_Var227</th>\n",
       "      <th>nan_Var228</th>\n",
       "      <th>Appetency</th>\n",
       "      <th>Churn</th>\n",
       "      <th>Upselling</th>\n",
       "    </tr>\n",
       "  </thead>\n",
       "  <tbody>\n",
       "    <tr>\n",
       "      <th>0</th>\n",
       "      <td>1526.000000</td>\n",
       "      <td>7.0</td>\n",
       "      <td>184.0</td>\n",
       "      <td>464.000000</td>\n",
       "      <td>14.000000</td>\n",
       "      <td>128.0</td>\n",
       "      <td>166.56</td>\n",
       "      <td>0.0</td>\n",
       "      <td>3570.0</td>\n",
       "      <td>0.0</td>\n",
       "      <td>...</td>\n",
       "      <td>0.0</td>\n",
       "      <td>0.0</td>\n",
       "      <td>0.0</td>\n",
       "      <td>0.0</td>\n",
       "      <td>0.0</td>\n",
       "      <td>0.0</td>\n",
       "      <td>0.0</td>\n",
       "      <td>-1</td>\n",
       "      <td>-1</td>\n",
       "      <td>-1</td>\n",
       "    </tr>\n",
       "    <tr>\n",
       "      <th>1</th>\n",
       "      <td>525.000000</td>\n",
       "      <td>0.0</td>\n",
       "      <td>0.0</td>\n",
       "      <td>168.000000</td>\n",
       "      <td>2.000000</td>\n",
       "      <td>24.0</td>\n",
       "      <td>353.52</td>\n",
       "      <td>0.0</td>\n",
       "      <td>4764966.0</td>\n",
       "      <td>0.0</td>\n",
       "      <td>...</td>\n",
       "      <td>1.0</td>\n",
       "      <td>0.0</td>\n",
       "      <td>0.0</td>\n",
       "      <td>0.0</td>\n",
       "      <td>0.0</td>\n",
       "      <td>0.0</td>\n",
       "      <td>0.0</td>\n",
       "      <td>-1</td>\n",
       "      <td>1</td>\n",
       "      <td>-1</td>\n",
       "    </tr>\n",
       "    <tr>\n",
       "      <th>2</th>\n",
       "      <td>5236.000000</td>\n",
       "      <td>7.0</td>\n",
       "      <td>904.0</td>\n",
       "      <td>1212.000000</td>\n",
       "      <td>26.000000</td>\n",
       "      <td>816.0</td>\n",
       "      <td>220.08</td>\n",
       "      <td>0.0</td>\n",
       "      <td>5883894.0</td>\n",
       "      <td>0.0</td>\n",
       "      <td>...</td>\n",
       "      <td>0.0</td>\n",
       "      <td>0.0</td>\n",
       "      <td>0.0</td>\n",
       "      <td>0.0</td>\n",
       "      <td>0.0</td>\n",
       "      <td>0.0</td>\n",
       "      <td>0.0</td>\n",
       "      <td>-1</td>\n",
       "      <td>-1</td>\n",
       "      <td>-1</td>\n",
       "    </tr>\n",
       "    <tr>\n",
       "      <th>3</th>\n",
       "      <td>69.125019</td>\n",
       "      <td>0.0</td>\n",
       "      <td>0.0</td>\n",
       "      <td>13.556917</td>\n",
       "      <td>0.361196</td>\n",
       "      <td>0.0</td>\n",
       "      <td>22.08</td>\n",
       "      <td>0.0</td>\n",
       "      <td>0.0</td>\n",
       "      <td>0.0</td>\n",
       "      <td>...</td>\n",
       "      <td>0.0</td>\n",
       "      <td>0.0</td>\n",
       "      <td>0.0</td>\n",
       "      <td>0.0</td>\n",
       "      <td>0.0</td>\n",
       "      <td>0.0</td>\n",
       "      <td>0.0</td>\n",
       "      <td>-1</td>\n",
       "      <td>-1</td>\n",
       "      <td>-1</td>\n",
       "    </tr>\n",
       "    <tr>\n",
       "      <th>4</th>\n",
       "      <td>1029.000000</td>\n",
       "      <td>7.0</td>\n",
       "      <td>3216.0</td>\n",
       "      <td>64.000000</td>\n",
       "      <td>4.000000</td>\n",
       "      <td>64.0</td>\n",
       "      <td>200.00</td>\n",
       "      <td>0.0</td>\n",
       "      <td>0.0</td>\n",
       "      <td>0.0</td>\n",
       "      <td>...</td>\n",
       "      <td>0.0</td>\n",
       "      <td>0.0</td>\n",
       "      <td>0.0</td>\n",
       "      <td>0.0</td>\n",
       "      <td>0.0</td>\n",
       "      <td>0.0</td>\n",
       "      <td>0.0</td>\n",
       "      <td>-1</td>\n",
       "      <td>-1</td>\n",
       "      <td>-1</td>\n",
       "    </tr>\n",
       "  </tbody>\n",
       "</table>\n",
       "<p>5 rows × 123 columns</p>\n",
       "</div>"
      ],
      "text/plain": [
       "          Var6  Var7   Var13        Var21      Var24  Var25   Var28  Var35  \\\n",
       "0  1526.000000   7.0   184.0   464.000000  14.000000  128.0  166.56    0.0   \n",
       "1   525.000000   0.0     0.0   168.000000   2.000000   24.0  353.52    0.0   \n",
       "2  5236.000000   7.0   904.0  1212.000000  26.000000  816.0  220.08    0.0   \n",
       "3    69.125019   0.0     0.0    13.556917   0.361196    0.0   22.08    0.0   \n",
       "4  1029.000000   7.0  3216.0    64.000000   4.000000   64.0  200.00    0.0   \n",
       "\n",
       "       Var38  Var44  ...  nan_Var218  nan_Var219  nan_Var221  nan_Var223  \\\n",
       "0     3570.0    0.0  ...         0.0         0.0         0.0         0.0   \n",
       "1  4764966.0    0.0  ...         1.0         0.0         0.0         0.0   \n",
       "2  5883894.0    0.0  ...         0.0         0.0         0.0         0.0   \n",
       "3        0.0    0.0  ...         0.0         0.0         0.0         0.0   \n",
       "4        0.0    0.0  ...         0.0         0.0         0.0         0.0   \n",
       "\n",
       "   nan_Var226  nan_Var227  nan_Var228  Appetency  Churn  Upselling  \n",
       "0         0.0         0.0         0.0         -1     -1         -1  \n",
       "1         0.0         0.0         0.0         -1      1         -1  \n",
       "2         0.0         0.0         0.0         -1     -1         -1  \n",
       "3         0.0         0.0         0.0         -1     -1         -1  \n",
       "4         0.0         0.0         0.0         -1     -1         -1  \n",
       "\n",
       "[5 rows x 123 columns]"
      ]
     },
     "execution_count": 3,
     "metadata": {},
     "output_type": "execute_result"
    }
   ],
   "source": [
    "df.head()"
   ]
  },
  {
   "cell_type": "code",
   "execution_count": 4,
   "id": "southern-ridge",
   "metadata": {},
   "outputs": [
    {
     "data": {
      "text/html": [
       "<div>\n",
       "<style scoped>\n",
       "    .dataframe tbody tr th:only-of-type {\n",
       "        vertical-align: middle;\n",
       "    }\n",
       "\n",
       "    .dataframe tbody tr th {\n",
       "        vertical-align: top;\n",
       "    }\n",
       "\n",
       "    .dataframe thead th {\n",
       "        text-align: right;\n",
       "    }\n",
       "</style>\n",
       "<table border=\"1\" class=\"dataframe\">\n",
       "  <thead>\n",
       "    <tr style=\"text-align: right;\">\n",
       "      <th></th>\n",
       "      <th>Appetency</th>\n",
       "      <th>Churn</th>\n",
       "      <th>Upselling</th>\n",
       "    </tr>\n",
       "  </thead>\n",
       "  <tbody>\n",
       "    <tr>\n",
       "      <th>0</th>\n",
       "      <td>0</td>\n",
       "      <td>0</td>\n",
       "      <td>0</td>\n",
       "    </tr>\n",
       "    <tr>\n",
       "      <th>1</th>\n",
       "      <td>0</td>\n",
       "      <td>1</td>\n",
       "      <td>0</td>\n",
       "    </tr>\n",
       "    <tr>\n",
       "      <th>2</th>\n",
       "      <td>0</td>\n",
       "      <td>0</td>\n",
       "      <td>0</td>\n",
       "    </tr>\n",
       "    <tr>\n",
       "      <th>3</th>\n",
       "      <td>0</td>\n",
       "      <td>0</td>\n",
       "      <td>0</td>\n",
       "    </tr>\n",
       "    <tr>\n",
       "      <th>4</th>\n",
       "      <td>0</td>\n",
       "      <td>0</td>\n",
       "      <td>0</td>\n",
       "    </tr>\n",
       "  </tbody>\n",
       "</table>\n",
       "</div>"
      ],
      "text/plain": [
       "   Appetency  Churn  Upselling\n",
       "0          0      0          0\n",
       "1          0      1          0\n",
       "2          0      0          0\n",
       "3          0      0          0\n",
       "4          0      0          0"
      ]
     },
     "execution_count": 4,
     "metadata": {},
     "output_type": "execute_result"
    }
   ],
   "source": [
    "# convert target values to binary\n",
    "df_model = df.copy()\n",
    "\n",
    "targets = ['Appetency', 'Churn', 'Upselling']\n",
    "\n",
    "for col in targets:\n",
    "    df_model[col] = df_model[col].apply(lambda x: 1 if x==1 else 0)\n",
    "df_model[['Appetency', 'Churn', 'Upselling']].head()"
   ]
  },
  {
   "cell_type": "code",
   "execution_count": 5,
   "id": "rubber-tender",
   "metadata": {},
   "outputs": [
    {
     "data": {
      "text/plain": [
       "((50000, 120), (50000,))"
      ]
     },
     "execution_count": 5,
     "metadata": {},
     "output_type": "execute_result"
    }
   ],
   "source": [
    "# Separate predictors and response\n",
    "X = df_model.drop(columns=targets)\n",
    "\n",
    "y_churn = df_model.Churn\n",
    "y_appetency = df_model.Appetency\n",
    "y_upselling = df_model.Upselling\n",
    "\n",
    "X.shape, y_churn.shape"
   ]
  },
  {
   "cell_type": "markdown",
   "id": "fewer-setting",
   "metadata": {},
   "source": [
    " Encoding Categorical Data\n",
    "\n",
    "LeaveOneOutEncoder: Leave one out coding for categorical features.\n",
    " This is very similar to target encoding but excludes the current row’s target when calculating the mean target \n",
    " for a level to reduce the effect of outliers.\n",
    "\n",
    "CatBoost: https://arxiv.org/abs/1706.09516\n",
    "Beware, the training data have to be randomly permutated. E.g.:"
   ]
  },
  {
   "cell_type": "code",
   "execution_count": 6,
   "id": "amazing-asbestos",
   "metadata": {},
   "outputs": [
    {
     "name": "stdout",
     "output_type": "stream",
     "text": [
      "Numerical features : 98\n",
      "Categorical features : 22\n"
     ]
    }
   ],
   "source": [
    "# Random permutation perm = np.random.permutation(len(X)) \n",
    "#X = X.iloc[perm].reset_index(drop=True) \n",
    "#y = y.iloc[perm].reset_index(drop=True)\n",
    "\n",
    "numerical_ix = X.select_dtypes(include=['int64', 'float64']).columns\n",
    "categorical_ix = X.select_dtypes(include=['category', 'bool']).columns\n",
    "\n",
    "print('Numerical features :', len(numerical_ix)) \n",
    "print('Categorical features :', len(categorical_ix))"
   ]
  },
  {
   "cell_type": "code",
   "execution_count": 7,
   "id": "antique-water",
   "metadata": {},
   "outputs": [],
   "source": [
    "# split datasets into X_train and y_train\n",
    "X_train_churn, X_test_churn, y_train_churn, y_test_churn = train_test_split(X, y_churn, test_size = 0.2,random_state=42 )\n",
    "X_train_appetency, X_test_appetency, y_train_appetency, y_test_appetency = train_test_split(X, y_appetency, test_size = 0.2,random_state=42 )\n",
    "X_train_upselling, X_test_upselling, y_train_upselling, y_test_upselling = train_test_split(X, y_upselling, test_size = 0.2,random_state=42 )"
   ]
  },
  {
   "cell_type": "code",
   "execution_count": 8,
   "id": "surprising-mexican",
   "metadata": {},
   "outputs": [],
   "source": [
    "# split the training data into train and validation sets. \n",
    "X_train_churn, X_val_churn, y_train_churn, y_val_churn = train_test_split(X_train_churn, y_train_churn, test_size = 0.2,random_state=42, stratify=y_train_churn)\n",
    "X_train_appetency, X_val_appetency, y_train_appetency, y_val_appetency = train_test_split(X_train_appetency, y_train_appetency, test_size = 0.2,random_state=42, stratify=y_train_appetency)\n",
    "X_train_upselling, X_val_upselling, y_train_upselling, y_val_upselling = train_test_split(X_train_upselling, y_train_upselling, test_size = 0.2,random_state=42, stratify=y_train_upselling)"
   ]
  },
  {
   "cell_type": "markdown",
   "id": "comfortable-ladder",
   "metadata": {},
   "source": [
    "We employ three different baseline models owing to the different structural differences between them\n",
    "1. Logisitic Regression with Lasso Regularization\n",
    "2. Decision Tree\n",
    "3. Gaussian Naive Bayes"
   ]
  },
  {
   "cell_type": "markdown",
   "id": "alien-plane",
   "metadata": {},
   "source": [
    "### Logistic Regression"
   ]
  },
  {
   "cell_type": "code",
   "execution_count": 9,
   "id": "dramatic-cargo",
   "metadata": {},
   "outputs": [
    {
     "name": "stderr",
     "output_type": "stream",
     "text": [
      "/home/rovina/anaconda3/lib/python3.8/site-packages/sklearn/linear_model/_sag.py:328: ConvergenceWarning: The max_iter was reached which means the coef_ did not converge\n",
      "  warnings.warn(\"The max_iter was reached which means \"\n"
     ]
    },
    {
     "data": {
      "text/plain": [
       "Pipeline(steps=[('preprocessor',\n",
       "                 ColumnTransformer(transformers=[('num',\n",
       "                                                  Pipeline(steps=[('scaler',\n",
       "                                                                   StandardScaler())]),\n",
       "                                                  Index(['Var6', 'Var7', 'Var13', 'Var21', 'Var24', 'Var25', 'Var28', 'Var35',\n",
       "       'Var38', 'Var44', 'Var57', 'Var65', 'Var73', 'Var74', 'Var76', 'Var78',\n",
       "       'Var81', 'Var83', 'Var85', 'Var109', 'Var112', 'Var113', 'Var119',\n",
       "       'Var123', 'Var125', 'Var126', 'Var132', 'Var...\n",
       "                                                  Pipeline(steps=[('encode_leaveoneout',\n",
       "                                                                   LeaveOneOutEncoder(sigma=0.05))]),\n",
       "                                                  Index(['Var192', 'Var193', 'Var195', 'Var196', 'Var197', 'Var203', 'Var204',\n",
       "       'Var205', 'Var206', 'Var207', 'Var208', 'Var210', 'Var211', 'Var212',\n",
       "       'Var216', 'Var218', 'Var219', 'Var221', 'Var223', 'Var226', 'Var227',\n",
       "       'Var228'],\n",
       "      dtype='object'))])),\n",
       "                ('o', SMOTE()),\n",
       "                ('classifier',\n",
       "                 LogisticRegression(penalty='l1', solver='saga'))])"
      ]
     },
     "execution_count": 9,
     "metadata": {},
     "output_type": "execute_result"
    }
   ],
   "source": [
    "#Using logisitc Regression\n",
    "# transform using encoder and standard scaler-----> pipeline required\n",
    "\n",
    "over = SMOTE()\n",
    "\n",
    "# create a transformer for the categorical values\n",
    "categorical_transformer = Pipeline(steps=[\n",
    "    ('encode_leaveoneout', LeaveOneOutEncoder(sigma=0.05))])\n",
    "\n",
    "# create a transformed for the numerical values\n",
    "# standardize the numerical data\n",
    "numeric_transformer = Pipeline(steps=[\n",
    "    ('scaler', StandardScaler())])\n",
    "\n",
    "\n",
    "preprocessor = ColumnTransformer(\n",
    "    transformers=[\n",
    "        ('num', numeric_transformer, numerical_ix),\n",
    "        ('cat', categorical_transformer, categorical_ix)\n",
    "    ])\n",
    "\n",
    "#Lasso Regularization\n",
    "clf = Pipeline(steps=[('preprocessor', preprocessor),\n",
    "                      ('o', over),\n",
    "                      ('classifier', LogisticRegression(penalty='l1',solver='saga'))])\n",
    "\n",
    "clf.fit(X_train_churn, y_train_churn)"
   ]
  },
  {
   "cell_type": "code",
   "execution_count": 10,
   "id": "advised-lighter",
   "metadata": {},
   "outputs": [
    {
     "name": "stdout",
     "output_type": "stream",
     "text": [
      "The ROC score for training set is: 0.7101473143700087\n",
      "The ROC score for validation set is: 0.6994556255993282\n",
      "Confusion matrix for validation set:\n",
      " [[4539 2866]\n",
      " [ 197  398]]\n"
     ]
    }
   ],
   "source": [
    "y_pred_train_churn = clf.predict_proba(X_train_churn)[:,-1]\n",
    "y_pred_val_lr_churn = clf.predict_proba(X_val_churn)[:,-1]\n",
    "fpr_lr_churn, tpr_lr_churn, _ = roc_curve(y_val_churn, y_pred_val_lr_churn)\n",
    "y_predict_val_churn = clf.predict(X_val_churn)\n",
    "\n",
    "print(\"The ROC score for training set is:\",roc_auc_score(y_train_churn, y_pred_train_churn))\n",
    "print(\"The ROC score for validation set is:\",roc_auc_score(y_val_churn, y_pred_val_lr_churn))\n",
    "print(\"Confusion matrix for validation set:\\n\",confusion_matrix(y_val_churn, y_predict_val_churn))"
   ]
  },
  {
   "cell_type": "code",
   "execution_count": 11,
   "id": "original-unemployment",
   "metadata": {},
   "outputs": [
    {
     "name": "stderr",
     "output_type": "stream",
     "text": [
      "/home/rovina/anaconda3/lib/python3.8/site-packages/sklearn/linear_model/_sag.py:328: ConvergenceWarning: The max_iter was reached which means the coef_ did not converge\n",
      "  warnings.warn(\"The max_iter was reached which means \"\n"
     ]
    },
    {
     "name": "stdout",
     "output_type": "stream",
     "text": [
      "The ROC score for training set is: 0.7769701170295029\n",
      "The ROC score for validation set is: 0.7620922320507475\n",
      "Confusion matrix for validation set:\n",
      " [[5544 2311]\n",
      " [  41  104]]\n"
     ]
    }
   ],
   "source": [
    "clf.fit(X_train_appetency, y_train_appetency)\n",
    "\n",
    "y_pred_train_appetency = clf.predict_proba(X_train_appetency)[:,-1]\n",
    "y_pred_val_lr_appetency = clf.predict_proba(X_val_appetency)[:,-1]\n",
    "fpr_lr_appetency, tpr_lr_appetency, _ = roc_curve(y_val_churn, y_pred_val_lr_appetency)\n",
    "y_predict_val_appetency = clf.predict(X_val_appetency)\n",
    "\n",
    "print(\"The ROC score for training set is:\",roc_auc_score(y_train_appetency, y_pred_train_appetency))\n",
    "print(\"The ROC score for validation set is:\",roc_auc_score(y_val_appetency, y_pred_val_lr_appetency))\n",
    "print(\"Confusion matrix for validation set:\\n\",confusion_matrix(y_val_appetency, y_predict_val_appetency))"
   ]
  },
  {
   "cell_type": "code",
   "execution_count": 12,
   "id": "thick-clerk",
   "metadata": {},
   "outputs": [
    {
     "name": "stderr",
     "output_type": "stream",
     "text": [
      "/home/rovina/anaconda3/lib/python3.8/site-packages/sklearn/linear_model/_sag.py:328: ConvergenceWarning: The max_iter was reached which means the coef_ did not converge\n",
      "  warnings.warn(\"The max_iter was reached which means \"\n"
     ]
    },
    {
     "name": "stdout",
     "output_type": "stream",
     "text": [
      "The ROC score for training set is: 0.7503059050285696\n",
      "The ROC score for validation set is: 0.7205041683712561\n",
      "Confusion matrix for validation set:\n",
      " [[5011 2406]\n",
      " [ 219  364]]\n"
     ]
    }
   ],
   "source": [
    "clf.fit(X_train_upselling, y_train_upselling)\n",
    "y_pred_train_upselling = clf.predict_proba(X_train_upselling)[:,-1]\n",
    "y_pred_val_lr_upselling = clf.predict_proba(X_val_upselling)[:,-1]\n",
    "fpr_lr_upselling, tpr_lr_upselling, _ = roc_curve(y_val_churn, y_pred_val_lr_upselling)\n",
    "y_predict_val_upselling = clf.predict(X_val_upselling)\n",
    "\n",
    "print(\"The ROC score for training set is:\",roc_auc_score(y_train_upselling, y_pred_train_upselling))\n",
    "print(\"The ROC score for validation set is:\",roc_auc_score(y_val_upselling, y_pred_val_lr_upselling))\n",
    "print(\"Confusion matrix for validation set:\\n\",confusion_matrix(y_val_upselling, y_predict_val_upselling))"
   ]
  },
  {
   "cell_type": "markdown",
   "id": "placed-sampling",
   "metadata": {},
   "source": [
    "### Decision Tree"
   ]
  },
  {
   "cell_type": "code",
   "execution_count": 13,
   "id": "formed-turning",
   "metadata": {},
   "outputs": [],
   "source": [
    "# Using a tree based model: DecsionTreeClassifier\n",
    "# used Variancethreshold: keep all features with non-zero variance, and remove the features that have the same value \n",
    "# in all samples.\n",
    "\n",
    "\n",
    "categorical_transformer = Pipeline(steps=[\n",
    "    ('encode_leaveoneout', LeaveOneOutEncoder(sigma=0.05))])\n",
    "\n",
    "\n",
    "numeric_transformer = Pipeline(steps=[\n",
    "    ('var_threshold', VarianceThreshold(threshold=0))])\n",
    "\n",
    "preprocessor = ColumnTransformer(\n",
    "    transformers=[\n",
    "        ('num', numeric_transformer, numerical_ix),\n",
    "        ('cat', categorical_transformer, categorical_ix)\n",
    "    ])\n",
    "\n",
    "\n",
    "clf = Pipeline(steps=[('preprocessor', preprocessor),\n",
    "                      ('o', over),\n",
    "                      ('classifier', DecisionTreeClassifier(max_depth=1))])"
   ]
  },
  {
   "cell_type": "code",
   "execution_count": 14,
   "id": "suspected-start",
   "metadata": {},
   "outputs": [
    {
     "name": "stdout",
     "output_type": "stream",
     "text": [
      "The ROC score for training set is: 0.5775805542718337\n",
      "The ROC score for validation set is: 0.5834281855888879\n",
      "Confusion matrix for validation set:\n",
      " [[5467 1938]\n",
      " [ 340  255]]\n"
     ]
    }
   ],
   "source": [
    "clf.fit(X_train_churn, y_train_churn)\n",
    "\n",
    "y_pred_train_churn = clf.predict_proba(X_train_churn)[:,-1]\n",
    "y_pred_val_dtree_churn = clf.predict_proba(X_val_churn)[:,-1]\n",
    "fpr_dtree_churn, tpr_dtree_churn, _ = roc_curve(y_val_churn, y_pred_val_dtree_churn)\n",
    "y_predict_val_churn = clf.predict(X_val_churn)\n",
    "\n",
    "print(\"The ROC score for training set is:\",roc_auc_score(y_train_churn, y_pred_train_churn))\n",
    "print(\"The ROC score for validation set is:\",roc_auc_score(y_val_churn, y_pred_val_dtree_churn))\n",
    "print(\"Confusion matrix for validation set:\\n\",confusion_matrix(y_val_churn, y_predict_val_churn))"
   ]
  },
  {
   "cell_type": "code",
   "execution_count": 15,
   "id": "separated-linux",
   "metadata": {},
   "outputs": [
    {
     "name": "stdout",
     "output_type": "stream",
     "text": [
      "The ROC score for training set is: 0.6794433472767962\n",
      "The ROC score for validation set is: 0.681893808029149\n",
      "Confusion matrix for validation set:\n",
      " [[3941 3914]\n",
      " [  20  125]]\n"
     ]
    }
   ],
   "source": [
    "clf.fit(X_train_appetency, y_train_appetency)\n",
    "\n",
    "y_pred_train_appetency = clf.predict_proba(X_train_appetency)[:,-1]\n",
    "y_pred_val_dtree_appetency = clf.predict_proba(X_val_appetency)[:,-1]\n",
    "fpr_dtree_appetency, tpr_dtree_appetency, _ = roc_curve(y_val_churn, y_pred_val_dtree_appetency)\n",
    "y_predict_val_appetency = clf.predict(X_val_appetency)\n",
    "\n",
    "print(\"The ROC score for training set is:\",roc_auc_score(y_train_appetency, y_pred_train_appetency))\n",
    "print(\"The ROC score for validation set is:\",roc_auc_score(y_val_appetency, y_pred_val_dtree_appetency))\n",
    "print(\"Confusion matrix for validation set:\\n\",confusion_matrix(y_val_appetency, y_predict_val_appetency))"
   ]
  },
  {
   "cell_type": "code",
   "execution_count": 16,
   "id": "freelance-champion",
   "metadata": {},
   "outputs": [
    {
     "name": "stdout",
     "output_type": "stream",
     "text": [
      "The ROC score for training set is: 0.7370004444223379\n",
      "The ROC score for validation set is: 0.7277632327199741\n",
      "Confusion matrix for validation set:\n",
      " [[7208  209]\n",
      " [ 301  282]]\n"
     ]
    }
   ],
   "source": [
    "clf.fit(X_train_upselling, y_train_upselling)\n",
    "\n",
    "y_pred_train_upselling = clf.predict_proba(X_train_upselling)[:,-1]\n",
    "y_pred_val_dtree_upselling = clf.predict_proba(X_val_upselling)[:,-1]\n",
    "fpr_dtree_upselling, tpr_dtree_upselling, _ = roc_curve(y_val_churn, y_pred_val_dtree_upselling)\n",
    "y_predict_val_upselling = clf.predict(X_val_upselling)\n",
    "\n",
    "print(\"The ROC score for training set is:\",roc_auc_score(y_train_upselling, y_pred_train_upselling))\n",
    "print(\"The ROC score for validation set is:\",roc_auc_score(y_val_upselling, y_pred_val_dtree_upselling))\n",
    "print(\"Confusion matrix for validation set:\\n\",confusion_matrix(y_val_upselling, y_predict_val_upselling))"
   ]
  },
  {
   "cell_type": "markdown",
   "id": "beautiful-pickup",
   "metadata": {},
   "source": [
    "### Gaussian Naive Bayes"
   ]
  },
  {
   "cell_type": "code",
   "execution_count": 17,
   "id": "modern-cheese",
   "metadata": {},
   "outputs": [],
   "source": [
    "# Using Naive Bayes: GaussianNB\n",
    "\n",
    "# create a transformer for the categorical values\n",
    "categorical_transformer = Pipeline(steps=[\n",
    "    ('encode_leaveoneout', LeaveOneOutEncoder(sigma=0.05))])\n",
    "\n",
    "# create a transformed for the numerical values\n",
    "# standardize the numerical data\n",
    "numeric_transformer = Pipeline(steps=[\n",
    "    ('scaler', StandardScaler())])\n",
    "\n",
    "#('Kbins', KBinsDiscretizer(n_bins=i, encode='ordinal', strategy='quantile')),\n",
    "#can use SoftImpute(), SimpleImpute() here\n",
    "\n",
    "preprocessor = ColumnTransformer(\n",
    "    transformers=[\n",
    "        ('num', numeric_transformer, numerical_ix),\n",
    "        ('cat', categorical_transformer, categorical_ix)\n",
    "    ])\n",
    "\n",
    "clf = Pipeline(steps=[('preprocessor', preprocessor),\n",
    "                      ('classifier', GaussianNB())],\n",
    "              verbose=False)"
   ]
  },
  {
   "cell_type": "code",
   "execution_count": 18,
   "id": "acceptable-calculation",
   "metadata": {},
   "outputs": [
    {
     "name": "stdout",
     "output_type": "stream",
     "text": [
      "The ROC score for training set is: 0.6636842460665812\n",
      "The ROC score for validation set is: 0.6560175670538303\n",
      "Confusion matrix for validation set:\n",
      " [[2464 4941]\n",
      " [ 115  480]]\n"
     ]
    }
   ],
   "source": [
    "clf.fit(X_train_churn, y_train_churn)\n",
    "\n",
    "y_pred_train_churn = clf.predict_proba(X_train_churn)[:,-1]\n",
    "y_pred_val_gnb_churn = clf.predict_proba(X_val_churn)[:,-1]\n",
    "fpr_gnb_churn, tpr_gnb_churn, _ = roc_curve(y_val_churn, y_pred_val_gnb_churn)\n",
    "y_predict_val_churn = clf.predict(X_val_churn)\n",
    "\n",
    "print(\"The ROC score for training set is:\",roc_auc_score(y_train_churn, y_pred_train_churn))\n",
    "print(\"The ROC score for validation set is:\",roc_auc_score(y_val_churn, y_pred_val_gnb_churn))\n",
    "print(\"Confusion matrix for validation set:\\n\",confusion_matrix(y_val_churn, y_predict_val_churn))"
   ]
  },
  {
   "cell_type": "code",
   "execution_count": 19,
   "id": "split-calculator",
   "metadata": {},
   "outputs": [
    {
     "name": "stdout",
     "output_type": "stream",
     "text": [
      "The ROC score for training set is: 0.7426669080508908\n",
      "The ROC score for validation set is: 0.6974538510502863\n",
      "Confusion matrix for validation set:\n",
      " [[6880  975]\n",
      " [ 105   40]]\n"
     ]
    }
   ],
   "source": [
    "clf.fit(X_train_appetency, y_train_appetency)\n",
    "\n",
    "y_pred_train_appetency = clf.predict_proba(X_train_appetency)[:,-1]\n",
    "y_pred_val_gnb_appetency = clf.predict_proba(X_val_appetency)[:,-1]\n",
    "fpr_gnb_appetency, tpr_gnb_appetency, _ = roc_curve(y_val_churn, y_pred_val_gnb_appetency)\n",
    "y_predict_val_appetency = clf.predict(X_val_appetency)\n",
    "\n",
    "print(\"The ROC score for training set is:\",roc_auc_score(y_train_appetency, y_pred_train_appetency))\n",
    "print(\"The ROC score for validation set is:\",roc_auc_score(y_val_appetency, y_pred_val_gnb_appetency))\n",
    "print(\"Confusion matrix for validation set:\\n\",confusion_matrix(y_val_appetency, y_predict_val_appetency))"
   ]
  },
  {
   "cell_type": "code",
   "execution_count": 20,
   "id": "internal-rebel",
   "metadata": {},
   "outputs": [
    {
     "name": "stdout",
     "output_type": "stream",
     "text": [
      "The ROC score for training set is: 0.7054940823314189\n",
      "The ROC score for validation set is: 0.6702812439366149\n",
      "Confusion matrix for validation set:\n",
      " [[2527 4890]\n",
      " [  70  513]]\n"
     ]
    }
   ],
   "source": [
    "clf.fit(X_train_upselling, y_train_upselling)\n",
    "y_pred_train_upselling = clf.predict_proba(X_train_upselling)[:,-1]\n",
    "y_pred_val_gnb_upselling = clf.predict_proba(X_val_upselling)[:,-1]\n",
    "fpr_gnb_upselling, tpr_gnb_upselling, _ = roc_curve(y_val_churn, y_pred_val_gnb_upselling)\n",
    "y_predict_val_upselling = clf.predict(X_val_upselling)\n",
    "\n",
    "print(\"The ROC score for training set is:\",roc_auc_score(y_train_upselling, y_pred_train_upselling))\n",
    "print(\"The ROC score for validation set is:\",roc_auc_score(y_val_upselling, y_pred_val_gnb_upselling))\n",
    "print(\"Confusion matrix for validation set:\\n\",confusion_matrix(y_val_upselling, y_predict_val_upselling))"
   ]
  },
  {
   "cell_type": "code",
   "execution_count": 21,
   "id": "literary-genius",
   "metadata": {},
   "outputs": [
    {
     "data": {
      "image/png": "[encoded data removed]",
      "text/plain": [
       "<Figure size 432x288 with 1 Axes>"
      ]
     },
     "metadata": {
      "needs_background": "light"
     },
     "output_type": "display_data"
    }
   ],
   "source": [
    "# plot\n",
    "plt.figure(1)\n",
    "plt.plot([0, 1], [0, 1], 'k--')\n",
    "plt.plot(fpr_lr_churn, tpr_lr_churn, label='LogReg')\n",
    "plt.plot(fpr_dtree_churn, tpr_dtree_churn, label='DecisionTree')\n",
    "plt.plot(fpr_gnb_churn, tpr_gnb_churn, label='GaussianNB')\n",
    "\n",
    "plt.xlabel('False positive rate')\n",
    "plt.ylabel('True positive rate')\n",
    "plt.title('ROC curve on validation set')\n",
    "plt.legend(loc='best')\n",
    "plt.show()"
   ]
  },
  {
   "cell_type": "code",
   "execution_count": 22,
   "id": "legitimate-tribune",
   "metadata": {},
   "outputs": [
    {
     "data": {
      "image/png": "[encoded data removed]",
      "text/plain": [
       "<Figure size 432x288 with 1 Axes>"
      ]
     },
     "metadata": {
      "needs_background": "light"
     },
     "output_type": "display_data"
    }
   ],
   "source": [
    "# plot\n",
    "plt.figure(1)\n",
    "plt.plot([0, 1], [0, 1], 'k--')\n",
    "plt.plot(fpr_lr_appetency, tpr_lr_appetency, label='LogReg')\n",
    "plt.plot(fpr_dtree_appetency, tpr_dtree_appetency, label='DecisionTree')\n",
    "plt.plot(fpr_gnb_appetency, tpr_gnb_appetency, label='GaussianNB')\n",
    "\n",
    "plt.xlabel('False positive rate')\n",
    "plt.ylabel('True positive rate')\n",
    "plt.title('ROC curve on validation set')\n",
    "plt.legend(loc='best')\n",
    "plt.show()"
   ]
  },
  {
   "cell_type": "code",
   "execution_count": 23,
   "id": "associate-translator",
   "metadata": {},
   "outputs": [
    {
     "data": {
      "image/png": "[encoded data removed]",
      "text/plain": [
       "<Figure size 432x288 with 1 Axes>"
      ]
     },
     "metadata": {
      "needs_background": "light"
     },
     "output_type": "display_data"
    }
   ],
   "source": [
    "# plot\n",
    "plt.figure(1)\n",
    "plt.plot([0, 1], [0, 1], 'k--')\n",
    "plt.plot(fpr_lr_upselling, tpr_lr_upselling, label='LogReg')\n",
    "plt.plot(fpr_dtree_upselling, tpr_dtree_upselling, label='DecisionTree')\n",
    "plt.plot(fpr_gnb_upselling, tpr_gnb_upselling, label='GaussianNB')\n",
    "\n",
    "plt.xlabel('False positive rate')\n",
    "plt.ylabel('True positive rate')\n",
    "plt.title('ROC curve on validation set')\n",
    "plt.legend(loc='best')\n",
    "plt.show()"
   ]
  },
  {
   "cell_type": "code",
   "execution_count": 26,
   "id": "female-hunter",
   "metadata": {},
   "outputs": [
    {
     "name": "stdout",
     "output_type": "stream",
     "text": [
      "+-------------------+-----------+-----------+-------------------+\n",
      "|       Model       |    Data   | AUC score | Average AUC score |\n",
      "+-------------------+-----------+-----------+-------------------+\n",
      "| LogReg with Lasso | Appetency |   0.761   |                   |\n",
      "| LogReg with Lasso |   Churn   |   0.699   |                   |\n",
      "| LogReg with Lasso |   Upsell  |   0.721   |       0.727       |\n",
      "|   Decision Tree   | Appetency |   0.681   |                   |\n",
      "|   Decision Tree   |   Churn   |   0.583   |                   |\n",
      "|   Decision Tree   |   Upsell  |   0.727   |       0.763       |\n",
      "|    Gaussian NB    | Appetency |   0.697   |                   |\n",
      "|    Gaussian NB    |   Churn   |   0.656   |                   |\n",
      "|    Gaussian NB    |   Upsell  |   0.671   |       0.674       |\n",
      "+-------------------+-----------+-----------+-------------------+\n"
     ]
    }
   ],
   "source": [
    "from prettytable import PrettyTable\n",
    "x = PrettyTable()\n",
    "x.field_names = [\"Model\",\"Data\",\"AUC score\",\"Average AUC score\"]\n",
    "x.add_row([\"LogReg with Lasso\",\"Appetency\",0.761,\" \"])\n",
    "x.add_row([\"LogReg with Lasso\",\"Churn\",0.699,\" \"])\n",
    "x.add_row([\"LogReg with Lasso\",\"Upsell\",0.721,0.727])\n",
    "x.add_row([\"Decision Tree\",\"Appetency\",0.681,\" \"])\n",
    "x.add_row([\"Decision Tree\",\"Churn\",0.583,\" \"])\n",
    "x.add_row([\"Decision Tree\",\"Upsell\",0.727,0.763])\n",
    "x.add_row([\"Gaussian NB\",\"Appetency\",0.697,\" \"])\n",
    "x.add_row([\"Gaussian NB\",\"Churn\",0.656,\" \"])\n",
    "x.add_row([\"Gaussian NB\",\"Upsell\",0.671,0.674])\n",
    "\n",
    "print(x)"
   ]
  },
  {
   "cell_type": "markdown",
   "id": "authorized-fault",
   "metadata": {},
   "source": [
    "Decision Trees are better with handling the classification problem at hand and the Lasso Regualrization also helps with the score for Logisitic Regression. The simplest of these is the Gaussian Naive Bayes and this is the model that our ensemble models with all the hyper-tuning must beat."
   ]
  },
  {
   "cell_type": "code",
   "execution_count": null,
   "id": "smart-nightlife",
   "metadata": {},
   "outputs": [],
   "source": []
  }
 ],
 "metadata": {
  "kernelspec": {
   "display_name": "Python 3",
   "language": "python",
   "name": "python3"
  },
  "language_info": {
   "codemirror_mode": {
    "name": "ipython",
    "version": 3
   },
   "file_extension": ".py",
   "mimetype": "text/x-python",
   "name": "python",
   "nbconvert_exporter": "python",
   "pygments_lexer": "ipython3",
   "version": "3.8.3"
  }
 },
 "nbformat": 4,
 "nbformat_minor": 5
}
